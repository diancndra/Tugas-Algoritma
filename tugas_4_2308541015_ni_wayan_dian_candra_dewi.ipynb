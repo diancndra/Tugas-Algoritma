{
  "nbformat": 4,
  "nbformat_minor": 0,
  "metadata": {
    "colab": {
      "provenance": []
    },
    "kernelspec": {
      "name": "python3",
      "display_name": "Python 3"
    },
    "language_info": {
      "name": "python"
    }
  },
  "cells": [
    {
      "cell_type": "code",
      "execution_count": 28,
      "metadata": {
        "colab": {
          "base_uri": "https://localhost:8080/"
        },
        "id": "XljHekbVBoqG",
        "outputId": "bcc17972-b099-45d0-a59f-88b3e527be63"
      },
      "outputs": [
        {
          "output_type": "stream",
          "name": "stdout",
          "text": [
            "dian_candra_015\n"
          ]
        }
      ],
      "source": [
        "name = \"dian_candra_015\"\n",
        "print (name)"
      ]
    },
    {
      "cell_type": "code",
      "source": [
        "bunga = [\"kamboja\", \"kenanga\", \"mawar\", \"melati\"]\n",
        "bunga.append (\"tulip\")\n",
        "print (bunga)"
      ],
      "metadata": {
        "colab": {
          "base_uri": "https://localhost:8080/"
        },
        "id": "g_8iHlKIMLgP",
        "outputId": "bf3f76f7-8d2f-42ce-82c3-b5cc3d570767"
      },
      "execution_count": 29,
      "outputs": [
        {
          "output_type": "stream",
          "name": "stdout",
          "text": [
            "['kamboja', 'kenanga', 'mawar', 'melati', 'tulip']\n"
          ]
        }
      ]
    },
    {
      "cell_type": "code",
      "source": [
        "data = [1,2,3,4,5,6,7]\n",
        "for anggota in data:\n",
        "  print (anggota)"
      ],
      "metadata": {
        "colab": {
          "base_uri": "https://localhost:8080/"
        },
        "id": "1HDz4-R_Y12T",
        "outputId": "75978c47-dece-4bd7-be97-3225fd29d934"
      },
      "execution_count": 30,
      "outputs": [
        {
          "output_type": "stream",
          "name": "stdout",
          "text": [
            "1\n",
            "2\n",
            "3\n",
            "4\n",
            "5\n",
            "6\n",
            "7\n"
          ]
        }
      ]
    },
    {
      "cell_type": "code",
      "source": [
        "w = input(\"masukkan angka anda!\")\n",
        "t = input(\"masukkan angka lain!\")\n",
        "u = float(t) + float(w)\n",
        "for jumlah in str(u):\n",
        "  print (jumlah)"
      ],
      "metadata": {
        "colab": {
          "base_uri": "https://localhost:8080/"
        },
        "id": "hdso_EJbTP4m",
        "outputId": "5584eaae-62f8-4d91-b438-238a8d87014f"
      },
      "execution_count": 31,
      "outputs": [
        {
          "output_type": "stream",
          "name": "stdout",
          "text": [
            "masukkan angka anda!3\n",
            "masukkan angka lain!2\n",
            "5\n",
            ".\n",
            "0\n"
          ]
        }
      ]
    },
    {
      "cell_type": "code",
      "source": [
        "sisi = input (\"masukkan sisi persegi: \")\n",
        "keliling_persegi = float(sisi)**2\n",
        "print (\"keliling persegi adalah: \" + str(keliling_persegi))"
      ],
      "metadata": {
        "colab": {
          "base_uri": "https://localhost:8080/"
        },
        "id": "5QmQuICPA0FR",
        "outputId": "1f8ba9b6-f47d-4128-8324-3a7b21918622"
      },
      "execution_count": 16,
      "outputs": [
        {
          "output_type": "stream",
          "name": "stdout",
          "text": [
            "masukkan sisi persegi: 6\n",
            "keliling persegi adalah: 36.0\n"
          ]
        }
      ]
    },
    {
      "cell_type": "code",
      "source": [
        "for luas in sisi:\n",
        "  luas_persegi = float(sisi)**3\n",
        "  print (\"luas persegi adalah: \" + str)"
      ],
      "metadata": {
        "colab": {
          "base_uri": "https://localhost:8080/"
        },
        "id": "G221Qd2YCuWF",
        "outputId": "2b7b0957-4672-4ee3-9e52-ec3e2901409d"
      },
      "execution_count": 19,
      "outputs": [
        {
          "output_type": "stream",
          "name": "stdout",
          "text": [
            "luas persegi adalah: 216.0\n"
          ]
        }
      ]
    }
  ]
}