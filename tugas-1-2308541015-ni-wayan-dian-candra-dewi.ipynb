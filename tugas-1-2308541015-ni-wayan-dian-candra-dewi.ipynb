{
 "cells": [
  {
   "cell_type": "code",
   "execution_count": 1,
   "id": "2de345b9",
   "metadata": {
    "execution": {
     "iopub.execute_input": "2024-03-19T09:14:49.034138Z",
     "iopub.status.busy": "2024-03-19T09:14:49.033731Z",
     "iopub.status.idle": "2024-03-19T09:14:49.047428Z",
     "shell.execute_reply": "2024-03-19T09:14:49.046170Z"
    },
    "papermill": {
     "duration": 0.022175,
     "end_time": "2024-03-19T09:14:49.049868",
     "exception": false,
     "start_time": "2024-03-19T09:14:49.027693",
     "status": "completed"
    },
    "tags": []
   },
   "outputs": [
    {
     "name": "stdout",
     "output_type": "stream",
     "text": [
      "Dian_Candra_15\n"
     ]
    }
   ],
   "source": [
    "status = \"Dian_Candra_15\"\n",
    "print (status) "
   ]
  },
  {
   "cell_type": "code",
   "execution_count": 2,
   "id": "37131a6b",
   "metadata": {
    "execution": {
     "iopub.execute_input": "2024-03-19T09:14:49.060403Z",
     "iopub.status.busy": "2024-03-19T09:14:49.059748Z",
     "iopub.status.idle": "2024-03-19T09:14:49.065568Z",
     "shell.execute_reply": "2024-03-19T09:14:49.064148Z"
    },
    "papermill": {
     "duration": 0.013743,
     "end_time": "2024-03-19T09:14:49.068195",
     "exception": false,
     "start_time": "2024-03-19T09:14:49.054452",
     "status": "completed"
    },
    "tags": []
   },
   "outputs": [
    {
     "name": "stdout",
     "output_type": "stream",
     "text": [
      "selamat pagi duniaaaa:)\n"
     ]
    }
   ],
   "source": [
    "print (\"selamat pagi duniaaaa:)\")"
   ]
  },
  {
   "cell_type": "code",
   "execution_count": 3,
   "id": "dfd4e99a",
   "metadata": {
    "execution": {
     "iopub.execute_input": "2024-03-19T09:14:49.078235Z",
     "iopub.status.busy": "2024-03-19T09:14:49.077760Z",
     "iopub.status.idle": "2024-03-19T09:14:49.605634Z",
     "shell.execute_reply": "2024-03-19T09:14:49.604010Z"
    },
    "papermill": {
     "duration": 0.535339,
     "end_time": "2024-03-19T09:14:49.607863",
     "exception": true,
     "start_time": "2024-03-19T09:14:49.072524",
     "status": "failed"
    },
    "tags": []
   },
   "outputs": [
    {
     "ename": "StdinNotImplementedError",
     "evalue": "raw_input was called, but this frontend does not support input requests.",
     "output_type": "error",
     "traceback": [
      "\u001b[0;31m---------------------------------------------------------------------------\u001b[0m",
      "\u001b[0;31mStdinNotImplementedError\u001b[0m                  Traceback (most recent call last)",
      "Cell \u001b[0;32mIn[3], line 1\u001b[0m\n\u001b[0;32m----> 1\u001b[0m bilangan_satu \u001b[38;5;241m=\u001b[39m \u001b[38;5;28;43minput\u001b[39;49m\u001b[43m \u001b[49m\u001b[43m(\u001b[49m\u001b[38;5;124;43m\"\u001b[39;49m\u001b[38;5;124;43mmasukkan bilangan pertama anda:\u001b[39;49m\u001b[38;5;124;43m\"\u001b[39;49m\u001b[43m)\u001b[49m\n\u001b[1;32m      2\u001b[0m bilangan_dua \u001b[38;5;241m=\u001b[39m \u001b[38;5;28minput\u001b[39m (\u001b[38;5;124m\"\u001b[39m\u001b[38;5;124mmasukkan bilangan kedua anda:\u001b[39m\u001b[38;5;124m\"\u001b[39m) \n\u001b[1;32m      3\u001b[0m bilangan_tiga \u001b[38;5;241m=\u001b[39m \u001b[38;5;28minput\u001b[39m (\u001b[38;5;124m\"\u001b[39m\u001b[38;5;124mmasukkan bilangan ketiga anda:\u001b[39m\u001b[38;5;124m\"\u001b[39m) \n",
      "File \u001b[0;32m/opt/conda/lib/python3.10/site-packages/ipykernel/kernelbase.py:1261\u001b[0m, in \u001b[0;36mKernel.raw_input\u001b[0;34m(self, prompt)\u001b[0m\n\u001b[1;32m   1259\u001b[0m \u001b[38;5;28;01mif\u001b[39;00m \u001b[38;5;129;01mnot\u001b[39;00m \u001b[38;5;28mself\u001b[39m\u001b[38;5;241m.\u001b[39m_allow_stdin:\n\u001b[1;32m   1260\u001b[0m     msg \u001b[38;5;241m=\u001b[39m \u001b[38;5;124m\"\u001b[39m\u001b[38;5;124mraw_input was called, but this frontend does not support input requests.\u001b[39m\u001b[38;5;124m\"\u001b[39m\n\u001b[0;32m-> 1261\u001b[0m     \u001b[38;5;28;01mraise\u001b[39;00m StdinNotImplementedError(msg)\n\u001b[1;32m   1262\u001b[0m \u001b[38;5;28;01mreturn\u001b[39;00m \u001b[38;5;28mself\u001b[39m\u001b[38;5;241m.\u001b[39m_input_request(\n\u001b[1;32m   1263\u001b[0m     \u001b[38;5;28mstr\u001b[39m(prompt),\n\u001b[1;32m   1264\u001b[0m     \u001b[38;5;28mself\u001b[39m\u001b[38;5;241m.\u001b[39m_parent_ident[\u001b[38;5;124m\"\u001b[39m\u001b[38;5;124mshell\u001b[39m\u001b[38;5;124m\"\u001b[39m],\n\u001b[1;32m   1265\u001b[0m     \u001b[38;5;28mself\u001b[39m\u001b[38;5;241m.\u001b[39mget_parent(\u001b[38;5;124m\"\u001b[39m\u001b[38;5;124mshell\u001b[39m\u001b[38;5;124m\"\u001b[39m),\n\u001b[1;32m   1266\u001b[0m     password\u001b[38;5;241m=\u001b[39m\u001b[38;5;28;01mFalse\u001b[39;00m,\n\u001b[1;32m   1267\u001b[0m )\n",
      "\u001b[0;31mStdinNotImplementedError\u001b[0m: raw_input was called, but this frontend does not support input requests."
     ]
    }
   ],
   "source": [
    "bilangan_satu = input (\"masukkan bilangan pertama anda:\")\n",
    "bilangan_dua = input (\"masukkan bilangan kedua anda:\") \n",
    "bilangan_tiga = input (\"masukkan bilangan ketiga anda:\") \n",
    "jumlah = float (bilangan_satu) + float (bilangan_dua) + float (bilangan_tiga) \n",
    "print (\"jumlah semuanya adalah: \" + str (jumlah)) "
   ]
  },
  {
   "cell_type": "code",
   "execution_count": null,
   "id": "00bcacf2",
   "metadata": {
    "execution": {
     "iopub.execute_input": "2024-03-19T08:29:16.024773Z",
     "iopub.status.busy": "2024-03-19T08:29:16.024314Z",
     "iopub.status.idle": "2024-03-19T08:29:34.507110Z",
     "shell.execute_reply": "2024-03-19T08:29:34.505957Z",
     "shell.execute_reply.started": "2024-03-19T08:29:16.024740Z"
    },
    "papermill": {
     "duration": null,
     "end_time": null,
     "exception": null,
     "start_time": null,
     "status": "pending"
    },
    "tags": []
   },
   "outputs": [],
   "source": [
    "t = input (\"masukkan bilangan 1 sampai 10!\") \n",
    "u = input (\"masukkan bilangan 10 sampai 20!\")\n",
    "v = input (\"masukkan bilangan 1 sampai 9!\") \n",
    "hitung = float (t) * float (u) / float (v) \n",
    "print (\"hasilnya adalah: \" + str (hitung)) "
   ]
  },
  {
   "cell_type": "code",
   "execution_count": null,
   "id": "7768ea8a",
   "metadata": {
    "execution": {
     "iopub.execute_input": "2024-03-19T08:29:41.778356Z",
     "iopub.status.busy": "2024-03-19T08:29:41.777924Z",
     "iopub.status.idle": "2024-03-19T08:29:41.785196Z",
     "shell.execute_reply": "2024-03-19T08:29:41.783867Z",
     "shell.execute_reply.started": "2024-03-19T08:29:41.778320Z"
    },
    "papermill": {
     "duration": null,
     "end_time": null,
     "exception": null,
     "start_time": null,
     "status": "pending"
    },
    "tags": []
   },
   "outputs": [],
   "source": [
    "def full_name(first_name,last_name):\n",
    "    print (f\"Namanya adalah {first_name}{last_name}\") "
   ]
  },
  {
   "cell_type": "code",
   "execution_count": null,
   "id": "f11b4451",
   "metadata": {
    "execution": {
     "iopub.execute_input": "2024-03-19T08:29:49.232386Z",
     "iopub.status.busy": "2024-03-19T08:29:49.232026Z",
     "iopub.status.idle": "2024-03-19T08:30:14.347031Z",
     "shell.execute_reply": "2024-03-19T08:30:14.345728Z",
     "shell.execute_reply.started": "2024-03-19T08:29:49.232359Z"
    },
    "papermill": {
     "duration": null,
     "end_time": null,
     "exception": null,
     "start_time": null,
     "status": "pending"
    },
    "tags": []
   },
   "outputs": [],
   "source": [
    "first_name = input (\"Masukkan nama depan anda:\") \n",
    "last_name = input (\"Masukkan nama belakang anda:\") \n",
    "full_name (first_name,last_name) "
   ]
  },
  {
   "cell_type": "code",
   "execution_count": null,
   "id": "581908e4",
   "metadata": {
    "execution": {
     "iopub.execute_input": "2024-03-19T09:03:22.275210Z",
     "iopub.status.busy": "2024-03-19T09:03:22.274819Z",
     "iopub.status.idle": "2024-03-19T09:03:22.282364Z",
     "shell.execute_reply": "2024-03-19T09:03:22.280800Z",
     "shell.execute_reply.started": "2024-03-19T09:03:22.275181Z"
    },
    "papermill": {
     "duration": null,
     "end_time": null,
     "exception": null,
     "start_time": null,
     "status": "pending"
    },
    "tags": []
   },
   "outputs": [],
   "source": [
    "def keliling_persegi_panjang(panjang, lebar):\n",
    "    keliling = float (2*(panjang+lebar)) \n",
    "    return keliling \n",
    "def luas_persegi_panjang (panjang, lebar) :\n",
    "    luas = float (panjang*luas) \n",
    "    return luas "
   ]
  },
  {
   "cell_type": "code",
   "execution_count": null,
   "id": "ab094e9a",
   "metadata": {
    "execution": {
     "iopub.execute_input": "2024-03-19T09:07:05.465073Z",
     "iopub.status.busy": "2024-03-19T09:07:05.464600Z",
     "iopub.status.idle": "2024-03-19T09:07:17.494132Z",
     "shell.execute_reply": "2024-03-19T09:07:17.493092Z",
     "shell.execute_reply.started": "2024-03-19T09:07:05.465036Z"
    },
    "papermill": {
     "duration": null,
     "end_time": null,
     "exception": null,
     "start_time": null,
     "status": "pending"
    },
    "tags": []
   },
   "outputs": [],
   "source": [
    "panjang = input(\"Masukkan Panjang:\")\n",
    "lebar = input(\"Masukkan Lebar:\")\n",
    "keliling = 2 * float(panjang) + float(lebar) \n",
    "print (\"Keliling Perseginya adalah: \" + str (keliling) + \"cm\") \n",
    "luas = float (panjang) * float (lebar) \n",
    "print (\"Luas Perseginya adalah: \" + str (luas) + \"cm²\") \n",
    "hitung = float (luas) * float (keliling) / 2 \n",
    "print (\"Gabungannya adalah: \" + str (hitung) + \"cm³\") "
   ]
  }
 ],
 "metadata": {
  "kaggle": {
   "accelerator": "none",
   "dataSources": [],
   "dockerImageVersionId": 30664,
   "isGpuEnabled": false,
   "isInternetEnabled": false,
   "language": "python",
   "sourceType": "notebook"
  },
  "kernelspec": {
   "display_name": "Python 3",
   "language": "python",
   "name": "python3"
  },
  "language_info": {
   "codemirror_mode": {
    "name": "ipython",
    "version": 3
   },
   "file_extension": ".py",
   "mimetype": "text/x-python",
   "name": "python",
   "nbconvert_exporter": "python",
   "pygments_lexer": "ipython3",
   "version": "3.10.13"
  },
  "papermill": {
   "default_parameters": {},
   "duration": 4.148213,
   "end_time": "2024-03-19T09:14:50.032310",
   "environment_variables": {},
   "exception": true,
   "input_path": "__notebook__.ipynb",
   "output_path": "__notebook__.ipynb",
   "parameters": {},
   "start_time": "2024-03-19T09:14:45.884097",
   "version": "2.5.0"
  }
 },
 "nbformat": 4,
 "nbformat_minor": 5
}
